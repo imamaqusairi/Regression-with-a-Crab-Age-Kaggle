{
 "cells": [
  {
   "cell_type": "markdown",
   "id": "ffaed97e-0eac-4da0-8ca5-9e82ebd0564d",
   "metadata": {},
   "source": [
    "# Crab Age Regression Kaggle Playground Series"
   ]
  },
  {
   "cell_type": "code",
   "execution_count": 14,
   "id": "1cc8f62a-99f1-4d08-999f-6c95102e3704",
   "metadata": {
    "tags": []
   },
   "outputs": [],
   "source": [
    "import kaggle\n",
    "import opendatasets as od\n",
    "import pandas as pd\n",
    "import numpy as np"
   ]
  },
  {
   "cell_type": "code",
   "execution_count": null,
   "id": "9ad046d4-4c89-4d76-94a2-1688546b6a56",
   "metadata": {
    "tags": []
   },
   "outputs": [],
   "source": [
    "# download dataset\n",
    "# od.download(\n",
    "#     \"https://www.kaggle.com/competitions/playground-series-s3e16/data\")"
   ]
  },
  {
   "cell_type": "code",
   "execution_count": 13,
   "id": "d758cb42-586e-4ac9-af19-1ea32858feb8",
   "metadata": {
    "jupyter": {
     "source_hidden": true
    },
    "tags": []
   },
   "outputs": [],
   "source": [
    "import pandas as pd\n",
    "train = pd.read_csv(r'D:/Data Science Project/Personal Project/Regression-with-a-Crab-Age-Kaggle/playground-series-s3e16/train.csv')\n",
    "test = pd.read_csv(r'D:/Data Science Project/Personal Project/Regression-with-a-Crab-Age-Kaggle/playground-series-s3e16/test.csv')\n",
    "sample = pd.read_csv(r'D:/Data Science Project/Personal Project/Regression-with-a-Crab-Age-Kaggle/playground-series-s3e16/sample_submission.csv')"
   ]
  },
  {
   "cell_type": "markdown",
   "id": "4d58d4a1-0152-4991-b084-6e9bef01e4ae",
   "metadata": {},
   "source": [
    "### Data Observation"
   ]
  },
  {
   "cell_type": "code",
   "execution_count": 15,
   "id": "32e6aed3-9406-45ca-a7ff-fe971b505291",
   "metadata": {
    "tags": []
   },
   "outputs": [
    {
     "name": "stdout",
     "output_type": "stream",
     "text": [
      "<class 'pandas.core.frame.DataFrame'>\n",
      "RangeIndex: 74051 entries, 0 to 74050\n",
      "Data columns (total 10 columns):\n",
      " #   Column          Non-Null Count  Dtype  \n",
      "---  ------          --------------  -----  \n",
      " 0   id              74051 non-null  int64  \n",
      " 1   Sex             74051 non-null  object \n",
      " 2   Length          74051 non-null  float64\n",
      " 3   Diameter        74051 non-null  float64\n",
      " 4   Height          74051 non-null  float64\n",
      " 5   Weight          74051 non-null  float64\n",
      " 6   Shucked Weight  74051 non-null  float64\n",
      " 7   Viscera Weight  74051 non-null  float64\n",
      " 8   Shell Weight    74051 non-null  float64\n",
      " 9   Age             74051 non-null  int64  \n",
      "dtypes: float64(7), int64(2), object(1)\n",
      "memory usage: 5.6+ MB\n"
     ]
    }
   ],
   "source": [
    "train.info()"
   ]
  },
  {
   "cell_type": "code",
   "execution_count": 16,
   "id": "84ac2ca0-e9e7-433f-a013-0dac8628e8ef",
   "metadata": {
    "tags": []
   },
   "outputs": [
    {
     "name": "stdout",
     "output_type": "stream",
     "text": [
      "<class 'pandas.core.frame.DataFrame'>\n",
      "RangeIndex: 49368 entries, 0 to 49367\n",
      "Data columns (total 9 columns):\n",
      " #   Column          Non-Null Count  Dtype  \n",
      "---  ------          --------------  -----  \n",
      " 0   id              49368 non-null  int64  \n",
      " 1   Sex             49368 non-null  object \n",
      " 2   Length          49368 non-null  float64\n",
      " 3   Diameter        49368 non-null  float64\n",
      " 4   Height          49368 non-null  float64\n",
      " 5   Weight          49368 non-null  float64\n",
      " 6   Shucked Weight  49368 non-null  float64\n",
      " 7   Viscera Weight  49368 non-null  float64\n",
      " 8   Shell Weight    49368 non-null  float64\n",
      "dtypes: float64(7), int64(1), object(1)\n",
      "memory usage: 3.4+ MB\n"
     ]
    }
   ],
   "source": [
    "test.info()"
   ]
  },
  {
   "cell_type": "code",
   "execution_count": null,
   "id": "1e65177f-4ca4-4b99-b278-5887e45d5869",
   "metadata": {},
   "outputs": [],
   "source": [
    "df.s"
   ]
  },
  {
   "cell_type": "code",
   "execution_count": null,
   "id": "eb3e3b44-03bc-45b4-a968-b92f6ea78186",
   "metadata": {},
   "outputs": [],
   "source": []
  },
  {
   "cell_type": "code",
   "execution_count": null,
   "id": "970e131e-1d12-410c-acef-78b3f88a2a70",
   "metadata": {},
   "outputs": [],
   "source": []
  },
  {
   "cell_type": "code",
   "execution_count": null,
   "id": "ad542ba3-0957-4611-97ac-590324fa3674",
   "metadata": {},
   "outputs": [],
   "source": []
  },
  {
   "cell_type": "code",
   "execution_count": null,
   "id": "18b49899-dd69-4162-9a62-3e4a6eb0ca2c",
   "metadata": {},
   "outputs": [],
   "source": []
  },
  {
   "cell_type": "markdown",
   "id": "0043a5a8-7b17-4598-857c-6a34d5908125",
   "metadata": {},
   "source": [
    "### Data Cleaning"
   ]
  },
  {
   "cell_type": "code",
   "execution_count": null,
   "id": "3641d099-a677-4b96-a79c-3b66c1b06c77",
   "metadata": {},
   "outputs": [],
   "source": []
  },
  {
   "cell_type": "code",
   "execution_count": null,
   "id": "76794f9d-6af0-40e8-8109-9ffeca450385",
   "metadata": {},
   "outputs": [],
   "source": []
  },
  {
   "cell_type": "markdown",
   "id": "ff8804b2-55f3-4801-aa92-c5a415c03088",
   "metadata": {},
   "source": []
  },
  {
   "cell_type": "markdown",
   "id": "3f1c3dec-5435-4ba9-9a61-9cec71774c5f",
   "metadata": {},
   "source": [
    "### Data Preprocessing"
   ]
  },
  {
   "cell_type": "code",
   "execution_count": null,
   "id": "f74c9fbe-12c4-4403-905f-3b77e093a982",
   "metadata": {},
   "outputs": [],
   "source": []
  },
  {
   "cell_type": "code",
   "execution_count": null,
   "id": "5bd16ed4-da28-4bdf-9d42-cabde996b119",
   "metadata": {},
   "outputs": [],
   "source": []
  },
  {
   "cell_type": "markdown",
   "id": "ea07cf68-7d16-46a4-a3f3-13570e5e002c",
   "metadata": {},
   "source": [
    "### Model Training"
   ]
  },
  {
   "cell_type": "code",
   "execution_count": null,
   "id": "d7bf01f5-e5c8-474f-93aa-8e4e2377ebaa",
   "metadata": {},
   "outputs": [],
   "source": []
  },
  {
   "cell_type": "code",
   "execution_count": null,
   "id": "eeb51e9d-44f7-457b-9b30-4dbcdfa9ef8a",
   "metadata": {},
   "outputs": [],
   "source": []
  },
  {
   "cell_type": "markdown",
   "id": "9f49cc78-5824-40ce-9c77-76931a59eda8",
   "metadata": {},
   "source": [
    "### Model Evaluation"
   ]
  },
  {
   "cell_type": "code",
   "execution_count": null,
   "id": "f1ea8064-6472-4209-835f-76ccc9614307",
   "metadata": {},
   "outputs": [],
   "source": []
  },
  {
   "cell_type": "code",
   "execution_count": null,
   "id": "85f1922b-d545-4d47-9185-9bb71539febd",
   "metadata": {},
   "outputs": [],
   "source": []
  },
  {
   "cell_type": "markdown",
   "id": "0bbfe821-acbb-48ab-a7e9-2ccc248146df",
   "metadata": {},
   "source": [
    "### Submit Models "
   ]
  },
  {
   "cell_type": "code",
   "execution_count": null,
   "id": "18775fd1-efd8-4e80-b699-8212a25a3758",
   "metadata": {},
   "outputs": [],
   "source": []
  },
  {
   "cell_type": "code",
   "execution_count": null,
   "id": "374bbb0b-bd80-4c6a-b807-3c66eebf8f1d",
   "metadata": {},
   "outputs": [],
   "source": []
  },
  {
   "cell_type": "code",
   "execution_count": null,
   "id": "e26e22d3-96ff-489d-a9e3-e78eceb2f792",
   "metadata": {},
   "outputs": [],
   "source": []
  },
  {
   "cell_type": "code",
   "execution_count": null,
   "id": "d8f684be-a9da-4244-b63f-67459fce09e3",
   "metadata": {},
   "outputs": [],
   "source": []
  },
  {
   "cell_type": "code",
   "execution_count": null,
   "id": "37f10aec-28e4-4646-b614-c318f7d0685f",
   "metadata": {},
   "outputs": [],
   "source": []
  },
  {
   "cell_type": "code",
   "execution_count": null,
   "id": "74ee084c-51ca-4a9c-9ef7-f4243469ad67",
   "metadata": {},
   "outputs": [],
   "source": []
  },
  {
   "cell_type": "code",
   "execution_count": null,
   "id": "a84bdf70-a42d-444b-9854-b1aaeb728baf",
   "metadata": {},
   "outputs": [],
   "source": []
  },
  {
   "cell_type": "code",
   "execution_count": null,
   "id": "a6b73e93-ac17-4faa-85cf-2f9162328eb5",
   "metadata": {},
   "outputs": [],
   "source": []
  },
  {
   "cell_type": "code",
   "execution_count": null,
   "id": "30ada934-bc16-4609-89ab-b2e03f04ab2e",
   "metadata": {},
   "outputs": [],
   "source": []
  },
  {
   "cell_type": "code",
   "execution_count": null,
   "id": "879bbd3e-f788-41a3-aa94-eff38564ea74",
   "metadata": {},
   "outputs": [],
   "source": []
  },
  {
   "cell_type": "code",
   "execution_count": null,
   "id": "b62f5099-e3a6-4090-a914-7d4e53cbd7ca",
   "metadata": {},
   "outputs": [],
   "source": []
  },
  {
   "cell_type": "code",
   "execution_count": null,
   "id": "810c3c99-2be4-4474-98b0-1982d39f6c26",
   "metadata": {},
   "outputs": [],
   "source": []
  },
  {
   "cell_type": "code",
   "execution_count": null,
   "id": "552b74aa-7ace-4974-8373-e0696bfce729",
   "metadata": {},
   "outputs": [],
   "source": []
  },
  {
   "cell_type": "code",
   "execution_count": null,
   "id": "4bf7a2b6-d2ee-41e7-941c-9d579a0a4e3c",
   "metadata": {},
   "outputs": [],
   "source": []
  },
  {
   "cell_type": "code",
   "execution_count": null,
   "id": "3bc33df4-5db7-4c54-8ed8-8b1a04c4e05f",
   "metadata": {},
   "outputs": [],
   "source": []
  },
  {
   "cell_type": "code",
   "execution_count": null,
   "id": "e6e392e3-5aeb-483a-b668-1e352882f729",
   "metadata": {},
   "outputs": [],
   "source": []
  },
  {
   "cell_type": "code",
   "execution_count": null,
   "id": "8987cbf3-d9e8-4a9c-af4e-1a3e37984d5e",
   "metadata": {},
   "outputs": [],
   "source": []
  },
  {
   "cell_type": "code",
   "execution_count": null,
   "id": "3fc20a53-28d3-4bfe-bc43-dd7ad59409de",
   "metadata": {},
   "outputs": [],
   "source": []
  },
  {
   "cell_type": "code",
   "execution_count": null,
   "id": "3cc6e1a5-3428-404a-8418-88e3b0849dde",
   "metadata": {},
   "outputs": [],
   "source": []
  },
  {
   "cell_type": "code",
   "execution_count": null,
   "id": "7a2b96c1-cac5-42e3-bd32-d09908fe7980",
   "metadata": {},
   "outputs": [],
   "source": []
  },
  {
   "cell_type": "code",
   "execution_count": null,
   "id": "6deeaf19-ae75-49df-a020-49ff86aad12b",
   "metadata": {},
   "outputs": [],
   "source": []
  },
  {
   "cell_type": "code",
   "execution_count": null,
   "id": "adb8e2d8-c33e-49ca-9e43-8e425ad7debc",
   "metadata": {},
   "outputs": [],
   "source": []
  },
  {
   "cell_type": "code",
   "execution_count": null,
   "id": "d73ee3fd-9c12-4625-8f59-7c417192117c",
   "metadata": {},
   "outputs": [],
   "source": []
  }
 ],
 "metadata": {
  "kernelspec": {
   "display_name": "Python 3 (ipykernel)",
   "language": "python",
   "name": "python3"
  },
  "language_info": {
   "codemirror_mode": {
    "name": "ipython",
    "version": 3
   },
   "file_extension": ".py",
   "mimetype": "text/x-python",
   "name": "python",
   "nbconvert_exporter": "python",
   "pygments_lexer": "ipython3",
   "version": "3.9.13"
  }
 },
 "nbformat": 4,
 "nbformat_minor": 5
}
