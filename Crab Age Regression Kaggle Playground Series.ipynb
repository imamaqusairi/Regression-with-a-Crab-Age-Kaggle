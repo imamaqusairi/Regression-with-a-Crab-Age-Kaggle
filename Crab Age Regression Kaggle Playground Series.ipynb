{
 "cells": [
  {
   "cell_type": "markdown",
   "id": "ffaed97e-0eac-4da0-8ca5-9e82ebd0564d",
   "metadata": {},
   "source": [
    "# Crab Age Regression Kaggle Playground Series"
   ]
  },
  {
   "cell_type": "code",
   "execution_count": 14,
   "id": "1cc8f62a-99f1-4d08-999f-6c95102e3704",
   "metadata": {
    "tags": []
   },
   "outputs": [],
   "source": [
    "import kaggle\n",
    "import opendatasets as od\n",
    "import pandas as pd\n",
    "import numpy as np"
   ]
  },
  {
   "cell_type": "code",
   "execution_count": 8,
   "id": "ea928e27-8149-4ba8-b075-da5e5e83d473",
   "metadata": {
    "tags": []
   },
   "outputs": [
    {
     "name": "stdout",
     "output_type": "stream",
     "text": [
      "Please provide your Kaggle credentials to download this dataset. Learn more: http://bit.ly/kaggle-creds\n",
      "Your Kaggle username:"
     ]
    },
    {
     "name": "stdin",
     "output_type": "stream",
     "text": [
      "  imamahmadqusyairi\n"
     ]
    },
    {
     "name": "stdout",
     "output_type": "stream",
     "text": [
      "Your Kaggle Key:"
     ]
    },
    {
     "name": "stdin",
     "output_type": "stream",
     "text": [
      "  ········\n"
     ]
    },
    {
     "name": "stdout",
     "output_type": "stream",
     "text": [
      "Downloading playground-series-s3e16.zip to .\\playground-series-s3e16\n"
     ]
    },
    {
     "name": "stderr",
     "output_type": "stream",
     "text": [
      "100%|█████████████████████████████████████████████████████████████████████████████| 2.65M/2.65M [00:01<00:00, 2.31MB/s]\n"
     ]
    },
    {
     "name": "stdout",
     "output_type": "stream",
     "text": [
      "\n",
      "Extracting archive .\\playground-series-s3e16/playground-series-s3e16.zip to .\\playground-series-s3e16\n"
     ]
    }
   ],
   "source": [
    "od.download(\n",
    "    \"https://www.kaggle.com/competitions/playground-series-s3e16/data\")"
   ]
  },
  {
   "cell_type": "code",
   "execution_count": 13,
   "id": "d758cb42-586e-4ac9-af19-1ea32858feb8",
   "metadata": {
    "tags": []
   },
   "outputs": [],
   "source": [
    "import pandas as pd\n",
    "train = pd.read_csv(r'D:/Data Science Project/Personal Project/Regression-with-a-Crab-Age-Kaggle/playground-series-s3e16/train.csv')\n",
    "test = pd.read_csv(r'D:/Data Science Project/Personal Project/Regression-with-a-Crab-Age-Kaggle/playground-series-s3e16/test.csv')\n",
    "sample = pd.read_csv(r'D:/Data Science Project/Personal Project/Regression-with-a-Crab-Age-Kaggle/playground-series-s3e16/sample_submission.csv')"
   ]
  },
  {
   "cell_type": "markdown",
   "id": "4d58d4a1-0152-4991-b084-6e9bef01e4ae",
   "metadata": {},
   "source": [
    "# Train Dataset "
   ]
  },
  {
   "cell_type": "code",
   "execution_count": null,
   "id": "32e6aed3-9406-45ca-a7ff-fe971b505291",
   "metadata": {},
   "outputs": [],
   "source": []
  },
  {
   "cell_type": "code",
   "execution_count": null,
   "id": "84ac2ca0-e9e7-433f-a013-0dac8628e8ef",
   "metadata": {},
   "outputs": [],
   "source": []
  },
  {
   "cell_type": "code",
   "execution_count": null,
   "id": "1e65177f-4ca4-4b99-b278-5887e45d5869",
   "metadata": {},
   "outputs": [],
   "source": []
  },
  {
   "cell_type": "code",
   "execution_count": null,
   "id": "30ada934-bc16-4609-89ab-b2e03f04ab2e",
   "metadata": {},
   "outputs": [],
   "source": []
  },
  {
   "cell_type": "code",
   "execution_count": null,
   "id": "879bbd3e-f788-41a3-aa94-eff38564ea74",
   "metadata": {},
   "outputs": [],
   "source": []
  },
  {
   "cell_type": "code",
   "execution_count": null,
   "id": "b62f5099-e3a6-4090-a914-7d4e53cbd7ca",
   "metadata": {},
   "outputs": [],
   "source": []
  },
  {
   "cell_type": "code",
   "execution_count": null,
   "id": "810c3c99-2be4-4474-98b0-1982d39f6c26",
   "metadata": {},
   "outputs": [],
   "source": []
  },
  {
   "cell_type": "code",
   "execution_count": null,
   "id": "552b74aa-7ace-4974-8373-e0696bfce729",
   "metadata": {},
   "outputs": [],
   "source": []
  },
  {
   "cell_type": "code",
   "execution_count": null,
   "id": "4bf7a2b6-d2ee-41e7-941c-9d579a0a4e3c",
   "metadata": {},
   "outputs": [],
   "source": []
  },
  {
   "cell_type": "code",
   "execution_count": null,
   "id": "3bc33df4-5db7-4c54-8ed8-8b1a04c4e05f",
   "metadata": {},
   "outputs": [],
   "source": []
  },
  {
   "cell_type": "code",
   "execution_count": null,
   "id": "e6e392e3-5aeb-483a-b668-1e352882f729",
   "metadata": {},
   "outputs": [],
   "source": []
  },
  {
   "cell_type": "code",
   "execution_count": null,
   "id": "8987cbf3-d9e8-4a9c-af4e-1a3e37984d5e",
   "metadata": {},
   "outputs": [],
   "source": []
  },
  {
   "cell_type": "code",
   "execution_count": null,
   "id": "3fc20a53-28d3-4bfe-bc43-dd7ad59409de",
   "metadata": {},
   "outputs": [],
   "source": []
  },
  {
   "cell_type": "code",
   "execution_count": null,
   "id": "3cc6e1a5-3428-404a-8418-88e3b0849dde",
   "metadata": {},
   "outputs": [],
   "source": []
  },
  {
   "cell_type": "code",
   "execution_count": null,
   "id": "7a2b96c1-cac5-42e3-bd32-d09908fe7980",
   "metadata": {},
   "outputs": [],
   "source": []
  },
  {
   "cell_type": "code",
   "execution_count": null,
   "id": "6deeaf19-ae75-49df-a020-49ff86aad12b",
   "metadata": {},
   "outputs": [],
   "source": []
  },
  {
   "cell_type": "code",
   "execution_count": null,
   "id": "adb8e2d8-c33e-49ca-9e43-8e425ad7debc",
   "metadata": {},
   "outputs": [],
   "source": []
  },
  {
   "cell_type": "code",
   "execution_count": null,
   "id": "d73ee3fd-9c12-4625-8f59-7c417192117c",
   "metadata": {},
   "outputs": [],
   "source": []
  }
 ],
 "metadata": {
  "kernelspec": {
   "display_name": "Python 3 (ipykernel)",
   "language": "python",
   "name": "python3"
  },
  "language_info": {
   "codemirror_mode": {
    "name": "ipython",
    "version": 3
   },
   "file_extension": ".py",
   "mimetype": "text/x-python",
   "name": "python",
   "nbconvert_exporter": "python",
   "pygments_lexer": "ipython3",
   "version": "3.9.13"
  }
 },
 "nbformat": 4,
 "nbformat_minor": 5
}
